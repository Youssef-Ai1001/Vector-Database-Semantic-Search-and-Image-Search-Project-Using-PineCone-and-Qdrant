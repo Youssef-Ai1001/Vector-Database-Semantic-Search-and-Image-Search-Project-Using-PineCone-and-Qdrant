{
 "cells": [
  {
   "cell_type": "code",
   "execution_count": null,
   "metadata": {
    "id": "x2ZrYC3zU4gf"
   },
   "outputs": [],
   "source": [
    "!pip install -qU kaggle"
   ]
  },
  {
   "cell_type": "code",
   "execution_count": null,
   "metadata": {
    "id": "Zp6gZD_2XaPW"
   },
   "outputs": [],
   "source": [
    "!mkdir -p ~/.kaggle\n",
    "!cp kaggle.json ~/.kaggle/\n",
    "!chmod 600 ~/.kaggle/kaggle.json"
   ]
  },
  {
   "cell_type": "code",
   "execution_count": null,
   "metadata": {
    "id": "SweO5fSzXwTZ"
   },
   "outputs": [],
   "source": [
    "# !kaggle datasets list"
   ]
  },
  {
   "cell_type": "code",
   "execution_count": null,
   "metadata": {
    "colab": {
     "base_uri": "https://localhost:8080/"
    },
    "executionInfo": {
     "elapsed": 6482,
     "status": "ok",
     "timestamp": 1757251863144,
     "user": {
      "displayName": "Youssef Taha",
      "userId": "11469612964608106522"
     },
     "user_tz": -180
    },
    "id": "0VKYgnhkXzjv",
    "outputId": "0d630b9a-a769-47fc-f57a-91e123c286a9"
   },
   "outputs": [],
   "source": [
    "#!/bin/bash\n",
    "!kaggle datasets download fabiochiusano/medium-articles"
   ]
  },
  {
   "cell_type": "code",
   "execution_count": null,
   "metadata": {
    "colab": {
     "base_uri": "https://localhost:8080/"
    },
    "executionInfo": {
     "elapsed": 14418,
     "status": "ok",
     "timestamp": 1757251941115,
     "user": {
      "displayName": "Youssef Taha",
      "userId": "11469612964608106522"
     },
     "user_tz": -180
    },
    "id": "U97-NzQGYDBY",
    "outputId": "8512cbe5-61fa-4b01-b91a-1c7c45c238fb"
   },
   "outputs": [],
   "source": [
    "#!/bin/bash\n",
    "!kaggle datasets download iamsouravbanerjee/animal-image-dataset-90-different-animals"
   ]
  },
  {
   "cell_type": "code",
   "execution_count": null,
   "metadata": {
    "colab": {
     "base_uri": "https://localhost:8080/"
    },
    "executionInfo": {
     "elapsed": 18988,
     "status": "ok",
     "timestamp": 1757252222041,
     "user": {
      "displayName": "Youssef Taha",
      "userId": "11469612964608106522"
     },
     "user_tz": -180
    },
    "id": "FW1cd5FEYNG4",
    "outputId": "a45fcab4-b3ee-48f3-f1dd-445ef7452b93"
   },
   "outputs": [],
   "source": [
    "import zipfile\n",
    "import os\n",
    "\n",
    "zip_path = \"/home/mango/Coding/Projects/ Mastering Vector Databases for AI Applications | Arabic/medium-articles.zip\"\n",
    "extract_dir = \"/home/mango/Coding/Projects/ Mastering Vector Databases for AI Applications | Arabic/Data/medium-articles\"\n",
    "\n",
    "# Create the folder if it doesn't exist\n",
    "os.makedirs(extract_dir, exist_ok=True)\n",
    "\n",
    "with zipfile.ZipFile(zip_path, 'r') as zip_ref:\n",
    "    zip_ref.extractall(extract_dir)\n",
    "\n",
    "print(f\"Unzipped successfully ✅ Files are extracted to: {extract_dir}\")\n"
   ]
  },
  {
   "cell_type": "code",
   "execution_count": null,
   "metadata": {
    "colab": {
     "base_uri": "https://localhost:8080/"
    },
    "executionInfo": {
     "elapsed": 73697,
     "status": "ok",
     "timestamp": 1757252295736,
     "user": {
      "displayName": "Youssef Taha",
      "userId": "11469612964608106522"
     },
     "user_tz": -180
    },
    "id": "QDoCPHyUYylo",
    "outputId": "827bbd0f-5c27-4eeb-e23a-335162dfea47"
   },
   "outputs": [],
   "source": [
    "import zipfile\n",
    "import os\n",
    "\n",
    "zip_path = \"/home/mango/Coding/Projects/ Mastering Vector Databases for AI Applications | Arabic/animal-image-dataset-90-different-animals.zip\"\n",
    "extract_dir = \"/home/mango/Coding/Projects/ Mastering Vector Databases for AI Applications | Arabic/Data/animal-image-dataset-90-different-animals\"\n",
    "\n",
    "# Create the folder if it doesn't exist\n",
    "os.makedirs(extract_dir, exist_ok=True)\n",
    "\n",
    "with zipfile.ZipFile(zip_path, 'r') as zip_ref:\n",
    "    zip_ref.extractall(extract_dir)\n",
    "\n",
    "print(f\"Unzipped successfully ✅ Files are extracted to: {extract_dir}\")\n"
   ]
  }
 ],
 "metadata": {
  "colab": {
   "authorship_tag": "ABX9TyPjmfruW9AnzdxUOxxj4Oru",
   "mount_file_id": "1PXEwqCsL3rTMwF4TzHWAmtb_EVRUZefq",
   "provenance": []
  },
  "kernelspec": {
   "display_name": "vectdb",
   "language": "python",
   "name": "python3"
  },
  "language_info": {
   "name": "python",
   "version": "3.10.18"
  }
 },
 "nbformat": 4,
 "nbformat_minor": 0
}
