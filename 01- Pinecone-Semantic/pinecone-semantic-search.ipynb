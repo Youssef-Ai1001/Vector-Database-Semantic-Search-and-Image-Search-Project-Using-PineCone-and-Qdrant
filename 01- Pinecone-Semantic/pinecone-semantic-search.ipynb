{
 "cells": [
  {
   "cell_type": "markdown",
   "metadata": {
    "id": "rRFtBBhSA5cz"
   },
   "source": [
    "# Import Required Libraries"
   ]
  },
  {
   "cell_type": "code",
   "execution_count": 2,
   "metadata": {
    "id": "wHNClHqsABom"
   },
   "outputs": [
    {
     "name": "stderr",
     "output_type": "stream",
     "text": [
      "/home/mango/miniconda3/envs/vectdb/lib/python3.10/site-packages/tqdm/auto.py:21: TqdmWarning: IProgress not found. Please update jupyter and ipywidgets. See https://ipywidgets.readthedocs.io/en/stable/user_install.html\n",
      "  from .autonotebook import tqdm as notebook_tqdm\n"
     ]
    }
   ],
   "source": [
    "import pandas as pd\n",
    "import numpy as np\n",
    "from tqdm import tqdm\n",
    "from sentence_transformers import SentenceTransformer\n",
    "from pinecone import Pinecone, ServerlessSpec\n",
    "from dotenv import load_dotenv\n",
    "import os"
   ]
  },
  {
   "cell_type": "markdown",
   "metadata": {
    "id": "V3m11ImhFQuy"
   },
   "source": [
    "### Set Some variables"
   ]
  },
  {
   "cell_type": "code",
   "execution_count": 3,
   "metadata": {
    "id": "RJYD7hilBKuQ"
   },
   "outputs": [],
   "source": [
    "os.chdir(\"/home/mango/Coding/Projects/ Mastering Vector Databases for AI Applications | Arabic\")\n",
    "FOLDER_DATA_PATH = os.path.join(os.getcwd(),'Data', 'medium-articles')\n",
    "FILE_FULL_DATA_PATH = os.path.join(os.getcwd(),'Data','medium-articles','medium_articles.csv')\n",
    "# FILE_TINY_DATA_PATH = os.path.join(os.getcwd(),'medium-articles','tiny_medium_articles.csv')\n",
    "\n",
    "\n",
    "_ = load_dotenv(override = True)      # return true if .env exist\n",
    "\n",
    "PINECONE_API_KEY = os.getenv('PINECONE_API_KEY')\n",
    "HF_ACCESS_TOKEN = os.getenv('HF_ACCESS_TOKEN')\n",
    "GOOGLE_API_KEY = os.getenv('GOOGLE_API_KEY')\n",
    "NGROK_AUTH_TOKEN = os.getenv('NGROK_AUTH_TOKEN')"
   ]
  },
  {
   "cell_type": "markdown",
   "metadata": {
    "id": "KBuI4eO5FXy8"
   },
   "source": [
    "### Read Full CSV data file"
   ]
  },
  {
   "cell_type": "code",
   "execution_count": 4,
   "metadata": {
    "id": "BuJC80NwBAMQ"
   },
   "outputs": [
    {
     "data": {
      "application/vnd.microsoft.datawrangler.viewer.v0+json": {
       "columns": [
        {
         "name": "index",
         "rawType": "int64",
         "type": "integer"
        },
        {
         "name": "title",
         "rawType": "object",
         "type": "string"
        },
        {
         "name": "text",
         "rawType": "object",
         "type": "string"
        },
        {
         "name": "url",
         "rawType": "object",
         "type": "string"
        },
        {
         "name": "authors",
         "rawType": "object",
         "type": "string"
        },
        {
         "name": "timestamp",
         "rawType": "object",
         "type": "string"
        },
        {
         "name": "tags",
         "rawType": "object",
         "type": "string"
        },
        {
         "name": "id",
         "rawType": "int64",
         "type": "integer"
        }
       ],
       "ref": "403c3262-fcbe-421f-907c-05a731df754f",
       "rows": [
        [
         "0",
         "Mental Note Vol. 24",
         "Photo by Josh Riemer on Unsplash\n\nMerry Christmas and Happy Holidays, everyone!\n\nWe just wanted everyone to know how much we appreciate everyone and how thankful we are for all our readers and writers here. We wouldn’t be anywhere without you, so thank you all for bringing informative, vulnerable, and important pieces that destigmatize mental illness and mental health.\n\nWithout further ado, here are ten of our top stories from last week, all of which were curated:\n\n“Just as the capacity to love and inspire is universal so is the capacity to hate and discourage. Irrespective of gender, race, age or religion none of us are exempt from aggressive proclivities. Those who are narcissistically disordered, and accordingly repress deep seated feelings of inferiority with inflated delusions of grandeur and superiority, are more prone to aggression and violence. They infiltrate our interactions in myriad environments from home, work, school and the cyber world. Hence, bullying does not happen in isolation. Although there is a ringleader she looks to her minions to either sanction her cruelty or look the other way.”\n\n“Even though the circumstances that brought me here were sad and challenging, I’m grateful for how this program has changed my life for the better. I can’t help but imagine what life would be like if everyone learned to accept their powerlessness over other people, prioritize their serenity, and take life one step at a time. We’ll never know, but I’d bet the world would be much happier.”\n\n“The prospect of spending a horrible Christmas, locked in on a psychiatric unit, was one of the low points of my life. For weeks, the day room was festooned with cheesy decorations and a sorry pink aluminum tree. All of our “activity” therapies revolved around the holidays. We baked and decorated cookies. We fashioned quick-drying clay into ornaments that turned out to be too heavy for the tree. Crappy Christmas carols were background torture. It was hard to get pissed off at the staff because they were making the best with what they had.”\n\n“Although I hate to admit it, even if my ex had never betrayed me, I still wouldn’t have been happy. I had set him up for an impossible job — to define me and make me whole. If I cannot find peace and contentment within myself, how could anyone else do it for me?”\n\n“On a personal note, significant feelings of loss and sadness can still flare up from time to time. That’s only natural; it’s no reason for self-critique. No matter how resilient we purport to be, we are all emotionally vulnerable human beings. Besides, we aren’t talking about some conceptual loss that we can just mechanically compartmentalize away — we are talking about the loss of our fathers, mothers, sisters and brothers.”\n\n“The next six weeks will be hard as cases continue to explode and government leadership remains nonexistent. I can’t control any of this. The only thing I can do is take deep breaths, remain vigilant when it comes to limiting exposure to the virus, and let lots of stuff go. I may always be a hypochondriac, but now that I recognize the beast, I’m hopeful I’ll be able to tame it.”\n\n“From anecdotal news reports and informal surveys, there is evidence that for some of us, this pandemic-imposed isolation is a boon rather than a trial. One study on mixed emotions showed that those with lower emotional stability (“moody” personalities) are actually better at responding to uncertainty.”\n\n“Every day I wish in my heart and soul that I didn’t have ME/CFS. Unfortunately, I do. It’s a result of a virus I had; 10–12 percent of people who experience a serious infection go on to develop ME. I’ve visualized life without CFS for over a year now; I can smell life without it, I can taste it. It’s in the smell of the lavender fields that I can no longer run through. It’s in the taste of the meals from my favorite restaurant that I can no longer walk to. It’s on the tip of my tongue. It’s in the potentialities; all the things I could be doing, as a twenty-four year-old, that I can’t. I cannot cross the chasm between the potential and the reality. And that’s nothing to do with manifestation.”\n\n“Whether it’s cabin fever, redundancy, loss, or general Covid anxieties, this year has caused us to be exposed to more uncertainty than ever. Uncertainty creates unease and feelings of stress. Some of us may have taken this year as one to motivate — plan dream trips, and prepare and be inspired for what the future could bring. For the rest, it has caused us to become irrational, emotional, and reserved.\n\n“To be more self-compassionate is a task that can be tricky because we always want to push ourselves and do better. Without realising it, this can lead to us being self-critical which can have damaging consequences.\n\nIt’s important to notice these times when we are harsh because we can easily turn it into self-compassion, which is linked to a better quality of life.”\n\nMerry Christmas and Happy Holidays, everyone!\n\n— Ryan, Juliette, Marie, and Meredith",
         "https://medium.com/invisible-illness/mental-note-vol-24-969b6a42443f",
         "['Ryan Fan']",
         "2020-12-26 03:38:10.479000+00:00",
         "['Mental Health', 'Health', 'Psychology', 'Science', 'Neuroscience']",
         "3040"
        ],
        [
         "1",
         "Your Brain On Coronavirus",
         "Your Brain On Coronavirus\n\nA guide to the curious and troubling impact of the pandemic and isolation\n\nPhoto by cottonbro from Pexels\n\nThe coronavirus pandemic frustrates and confounds epidemiologists and immunologists, even after months of study. It frustrates politicians and public health officials dealing with mask non-compliance. It frustrates everyone stuck at home, whether they lost their job or adapting to Zoom.\n\nAfter exposure to the virus, it first enters the lungs, using host machinery to replicate. The virus itself is just a genetic sequence enclosed in a protein and lipid coat. It binds the ACE2 receptors on lung cells, with a spike protein located on its protein-lipid coat. This receptor, attached to the virus, trafficks into the lung cell. Here the virus hijacks the machinery of the cell to replicate, damaging lung tissue and spreading throughout the body.\n\nThe ACE2 receptor, expressed in many regions of the body, is vulnerable to further entry of these viral particles. The ACE2 receptor regulates blood pressure, nutrient absorption and inflammation. These pathways converge and mediate brain health and disease.\n\nThe novel coronavirus perplexed us for many different reasons. A large majority of people who get it don’t display any symptoms, while some display symptoms for many months and others require ventilators to breathe. It is unclear whether someone infected with coronavirus retains long-term immunity.\n\nAlso, troubling findings implicate this disease in the induction of stroke and the worsening of mental health. The realization that there are likely long-term complications of coronavirus infection is worrying, as millions of people may require expensive coverage for this new pre-existing condition.\n\nThose of us lucky to avoid being infected become more socially isolated and lonely. Many studies report the worsening of mental health symptoms, especially in frontline workers, nurses and doctors. These professionals are more prone to burning out and require extra care.\n\nCOVID-19 and Stroke\n\nThe cells in the brain require a disproportionate amount of energy to function. When deprived of oxygen, even for minutes, the cells begin to die, leading to a variety of debilitating sensory, motor or language deficits depending. When there is blood loss to a specific region of the brain, cells cannot use oxygen to generate energy. If there is a clot in an artery, fresh oxygen cannot travel to any regions primarily supplied by that blood vessel. These events, classified as ischemic strokes, cause lifelong disability in some of those afflicted.\n\nEarly findings in patients found abnormal clotting in blood vessels. Vessels around the lungs or even arterial blood-flow to the brain is interrupted. Thus, individuals infected with coronavirus who suffered abnormal blood clotting as a result, were at higher risk of stroke.\n\nIn June of 2020, researchers published a report of neurological symptoms in the New England Journal of Medicine. While they did not report common symptoms of having a stroke, they showed other strange brain-related features. Of thirteen COVID-19 patients who underwent brain imaging, three of them showed signs of an ischemic stroke. A subset of eight of these patients showed other types of inflammation, while eleven presented with a lack of blood flow to the frontal areas of the brain.\n\nThough a preliminary observational study, it suggested that the coronavirus impacted blood clotting and flow to the brain. Several studies since identified swathes of patients suffering from ischemic strokes or brain/vascular inflammation. Another study reviewed the current state of evidence, concluding that 41% of patients suffering from neurological symptoms after COVID-19 infection, suffered from strokes. Larger studies however, are needed to decipher how common this is among all those infected with the novel coronavirus.\n\nDepending on which region of the brain loses oxygen, stroke may manifest as a broad range of symptoms. If cells die in an area of the brain responsible for motor movement, it later manifests in unilateral or bilateral difficulties with movement. Other common symptoms involve fatigue, challenges with balance or walking, partial paralysis, pain or inattention to one entire side of the body. It prevents individuals from doing the things they do in their daily lives, such as dress themselves or go to the bathroom independently.\n\nCOVID-19 and Psychiatric Disorders\n\nPhoto by Jonathan Rados on Unsplash\n\nEither through neuroimmune signalling or by directly entering the cells of the brain, COVID-19 also contributes to psychiatric symptoms and disorders. It is unclear what role it may play in their pathology, but it may worsen existing conditions or as a contributing factor in its development.\n\nOne study compared individuals afflicted with the novel coronavirus to those in quarantine or the general public, finding elevated rates of depression (29.2%) in those with COVID-19. Another small study reported increased post-traumatic stress symptoms in these patients.\n\nIndividuals already living with psychiatric disorders reported a worsening of symptoms in two different studies. Several other studies reported depressive and anxious symptoms worsened among essential workers.\n\nAnother study surveyed >2000 individuals in Denmark, finding a reduction in overall psychological well-being measures during the pandemics. This study also reported that women were more negatively affected than men.\n\nAdditionally, it recognized that many older adults living in adult-care communities during shelter-in-place orders experience loneliness and depression. A study of older adults in San Francisco found that they showed increased rates of loneliness and depression.\n\nWe must do our best to check-up on our friends and loved ones. We are all affected differently by the pandemic, so it is important to recognize that the rates of anxiety, depression and stress-related disorders may arise.\n\nCOVID-19 Long-Haulers\n\nThousands of individuals initially infected with COVID-19, the long-haulers, continue to suffer symptoms many months later. On average, these individuals are women around the age of 44 who are otherwise healthy. Their infections were classified as mild severity because they could recover at home.\n\nFacing stigma and in need of a community, several groups sprouted up to support each other. Originally disbelieved, they rallied to raise awareness of their predicament within the medical establishment. It should no longer be sufficient to classify individuals infected with COVID-19, who don’t require a hospital stay, as mild.\n\nA few different studies report that most individuals affected with COVID-19 suffer from symptoms months later (Italy, UK, Germany). Intriguingly, many long-haulers did not produce high-levels of coronavirus antibodies. Many individuals experience pain, fatigue and many other debilitating symptoms.\n\nThese symptoms are consistent with disturbances in the autonomic nervous system, which is responsible for many automatic physiological functions like breathing or heart-rate but also influence fatigue. Preliminary physiotherapy involves reconditioning the nervous system of patients so that they may regain some of these functions. In his article, Ed Yong states:",
         "https://medium.com/age-of-awareness/how-the-pandemic-affects-our-brain-and-mental-health-ae2ec0a9fc1d",
         "['Simon Spichak']",
         "2020-09-23 22:10:17.126000+00:00",
         "['Mental Health', 'Coronavirus', 'Science', 'Psychology', 'Neuroscience']",
         "3041"
        ],
        [
         "2",
         "Mind Your Nose",
         "Mind Your Nose\n\nHow smell training can change your brain in six weeks — and why it matters.\n\nBy Ann-Sophie Barwich\n\nWhen it comes to training your brain, your sense of smell is possibly the last thing you’d think could strengthen your neural pathways. Learning a new language or reading more books (and fewer social media posts) — sure. But your nose?\n\nThat’s because the olfactory system is one of the most plastic systems in your brain. Neuroplasticity describes how the brain flexibly adapts to changes in the environment or when exposed to neural damage. Stimulating the brain strengthens existing neural structures and further adds fuel to the brain’s capacity to remain adaptive, thereby keeping it young. And your smell system is particularly adept at repair and renewal. (Olfactory cells have recently been used in human transplant therapy to treat spinal cord injury, for example.)\n\nOne reason for the olfactory system’s adaptive responsiveness is that it undergoes adult neurogenesis. Humans grow new olfactory neurons every three to four weeks throughout their entire life, not just during child development. (These sensory neurons sit in the mucous of your nose, where they pick up airborne chemicals and send activity signals straight to the core of the brain.) If it weren’t for this ongoing regeneration of sensory cells in your nose, we would stop detecting smells after our first few colds.\n\nNeural plasticity weakens as we grow old — and so does our sense of smell. Olfactory performance decreases around the age of 70 as the regeneration of olfactory neurons slows down. Yet this process of regeneration never stops entirely. Training your nose helps slow down that decline and offers a great way to increase your brain’s plasticity. That said, increasing your sensitivity to odors in the environment does not always sound desirable. Smell usually comes with negative connotations: that whiff of urine in the metro, that overpowering literal skunk, or that trail of body odor from the person walking in front of you. But paying more attention to the smells around you also has benefits, and not just for a greater enjoyment of food aromas and neighbors’ gardens.\n\nRecent studies show that olfactory abilities correspond with differences in cortical areas involved in smell processing in the brain. Johannes Frasnelli, an olfactory scientist at the University of Quebec in Trois-Rivières, explained: “We did some studies where we saw that there is a link between the structure of certain brain regions-like the thickness of the cortex and the thickness of the gray matter layer in certain brain olfactory processing regions-and the ability to perceive.” Frasnelli and his colleagues found that people with better perceptual capacities had a thicker cortex. When they looked at people who had lost their sense of smell, they also saw a reduction of cortical matter in areas involved in odor processing.\n\nThat raises the question: Could you change the structure of your brain simply by smelling things? In 2019, Frasnelli’s group discovered that undergoing as little as six weeks of intense olfactory training results in significant structural changes in some regions of the brain (namely, the right inferior frontal gyrus, the bilateral fusiform gyrus, and the right entorhinal cortex).\n\nParticipants were given three tasks with a cognitive component.\n\nThe first task was a classification task. Participants had to organize two simple odor mixtures by ordering each from lowest to highest concentration. The second was an identification task. Participants were presented with a target odor blended with a citrus scent in a specific ratio (4%). Then they were given the same blend in different ratios and asked to order them according to quality (more citrusy or less?). Lastly, the detection task: Was the learned target odor present in a range of 14 samples of different odor mixtures or not?\n\nThis entire exercise was undertaken each day for 20 minutes during the six weeks. Responses were monitored and evaluated on speed and accuracy.\n\nSuch intense olfactory training led to a general improvement in olfactory performance. Plus, the increase of olfactory skill was not restricted to the training exercises but also transferred to other olfactory abilities-abilities that had not been tested as part of the training. These perceptual tests included: the detection threshold of an odor, accuracy in odor discrimination (same or different?), cued odor identification (which of these four descriptors is correct?), and even free odor identification (identifying an odor without cues!).\n\nIncreasing insight into what the nose knows, and how it communicates with the brain, has broader implications-even philosophical ones. Old (yet still prevalent) cookie-cutter views of the mind coax us to believe that our senses are passive-indifferently picking up signals in the world that are then processed by the brain. Perception, in such views, is a process separate from cognition. Highly plastic systems such as olfaction present us with a much more intriguing and interwoven picture of the mind: Training your nose’s performance (just like other cognitive capacities) fundamentally shapes what you perceive by rewiring the system.\n\nYour senses are far from being impartial transmitters; what you are able to perceive in the world ultimately hinges on the depth of your cognitive engagement with it. In other words, your mind does not emerge apathetically as a product of some remarkable, intricate molecular twists performed by the brain. The mind is enhanced by what you can train your brain to do. Just like strength is a result of muscle training, cognitive training of the senses is the bodybuilding of the brain.",
         "https://medium.com/neodotlife/mind-your-nose-f0b097d533bb",
         "[]",
         "2020-10-10 20:17:37.132000+00:00",
         "['Biotechnology', 'Neuroscience', 'Brain', 'Wellness', 'Science']",
         "3042"
        ],
        [
         "3",
         "The 4 Purposes of Dreams",
         "Passionate about the synergy between science and technology to provide better care. Check out my newsletter: scienceforreal.substack.com 📰\n\nFollow",
         "https://medium.com/science-for-real/the-4-purposes-of-dreams-fc6719090e75",
         "['Eshan Samaranayake']",
         "2020-12-21 16:05:19.524000+00:00",
         "['Health', 'Neuroscience', 'Mental Health', 'Psychology', 'Science']",
         "3043"
        ],
        [
         "4",
         "Surviving a Rod Through the Head",
         "You’ve heard of him, haven’t you? Phineas Gage. The railroad worker who survived an explosion that involved an iron rod piercing through his left cheek and out of his brain and skull.\n\nYeah.\n\nI know.\n\nYou’re probably wondering “yeah, alright sweet. What about him?” Well, let’s just say that he was a really popular patient for the field of neuroscience (Cherry, par. 1). And what I found the most interesting about this tragic event was the science of his behavior afterward.\n\nFor those of you who don’t know much about Phineas Gage, let me fill you in with the help of my research.\n\nPhineas Gage, 25 years old, was a railroad worker in Vermont. One day, at work, he was using an iron rod to handle explosive gun powder. As he was using the iron rod to handle the gun powder, an explosion suddenly occurred. The iron rod then went through his left cheek and brain. Fortunately, he survived and was able to talk and walk after the accident (Cherry, par. 2–3).\n\nWhy did people say that Phineas Gage was a “different person” after his accident? It actually has to do with neuroscience.\n\nThe iron rod went through his brain, in particular, it went through the frontal lobe of his brain. Does this mean that the frontal lobe of your brain has to do with the kind of person you are? To answer this question, we have to understand what the frontal lobe in our brain is responsible for.\n\nOur frontal lobes are responsible for many things. Some of them are higher-order thinking, personality, and decision making. This explains why people who knew Phineas Gage said that he was a totally different person after the accident. Since the iron rod went through his frontal lobe, it means that his personality and thinking, as a whole, completely changed, making him seem like he was a whole different person due to the way he started acting.\n\nThis accident and the treatment of Phineas Gage actually played a big role in the field of neurology. His case helped scientists better understand the role of the frontal cortex of the brain (Cherry, par. 16–17).\n\nBibliography\n\nCherry, Kendra. “The Famous Case of Phineas Gage’s Astonishing Brain Injury.” Phineas Gage’s Astonishing Brain Injury, Verywell Mind, 3 Oct. 2019, www.verywellmind.com/phineas-gage-2795244#targetText=The%20rod%20penetrated%20Gage's%20left,be%20seen%20by%20a%20doctor.",
         "https://medium.com/live-your-life-on-purpose/surviving-a-rod-through-the-head-2e5d74db978",
         "['Rishav Sinha']",
         "2020-02-26 00:01:01.576000+00:00",
         "['Brain', 'Health', 'Development', 'Psychology', 'Science']",
         "3044"
        ]
       ],
       "shape": {
        "columns": 7,
        "rows": 5
       }
      },
      "text/html": [
       "<div>\n",
       "<style scoped>\n",
       "    .dataframe tbody tr th:only-of-type {\n",
       "        vertical-align: middle;\n",
       "    }\n",
       "\n",
       "    .dataframe tbody tr th {\n",
       "        vertical-align: top;\n",
       "    }\n",
       "\n",
       "    .dataframe thead th {\n",
       "        text-align: right;\n",
       "    }\n",
       "</style>\n",
       "<table border=\"1\" class=\"dataframe\">\n",
       "  <thead>\n",
       "    <tr style=\"text-align: right;\">\n",
       "      <th></th>\n",
       "      <th>title</th>\n",
       "      <th>text</th>\n",
       "      <th>url</th>\n",
       "      <th>authors</th>\n",
       "      <th>timestamp</th>\n",
       "      <th>tags</th>\n",
       "      <th>id</th>\n",
       "    </tr>\n",
       "  </thead>\n",
       "  <tbody>\n",
       "    <tr>\n",
       "      <th>0</th>\n",
       "      <td>Mental Note Vol. 24</td>\n",
       "      <td>Photo by Josh Riemer on Unsplash\\n\\nMerry Chri...</td>\n",
       "      <td>https://medium.com/invisible-illness/mental-no...</td>\n",
       "      <td>['Ryan Fan']</td>\n",
       "      <td>2020-12-26 03:38:10.479000+00:00</td>\n",
       "      <td>['Mental Health', 'Health', 'Psychology', 'Sci...</td>\n",
       "      <td>3040</td>\n",
       "    </tr>\n",
       "    <tr>\n",
       "      <th>1</th>\n",
       "      <td>Your Brain On Coronavirus</td>\n",
       "      <td>Your Brain On Coronavirus\\n\\nA guide to the cu...</td>\n",
       "      <td>https://medium.com/age-of-awareness/how-the-pa...</td>\n",
       "      <td>['Simon Spichak']</td>\n",
       "      <td>2020-09-23 22:10:17.126000+00:00</td>\n",
       "      <td>['Mental Health', 'Coronavirus', 'Science', 'P...</td>\n",
       "      <td>3041</td>\n",
       "    </tr>\n",
       "    <tr>\n",
       "      <th>2</th>\n",
       "      <td>Mind Your Nose</td>\n",
       "      <td>Mind Your Nose\\n\\nHow smell training can chang...</td>\n",
       "      <td>https://medium.com/neodotlife/mind-your-nose-f...</td>\n",
       "      <td>[]</td>\n",
       "      <td>2020-10-10 20:17:37.132000+00:00</td>\n",
       "      <td>['Biotechnology', 'Neuroscience', 'Brain', 'We...</td>\n",
       "      <td>3042</td>\n",
       "    </tr>\n",
       "    <tr>\n",
       "      <th>3</th>\n",
       "      <td>The 4 Purposes of Dreams</td>\n",
       "      <td>Passionate about the synergy between science a...</td>\n",
       "      <td>https://medium.com/science-for-real/the-4-purp...</td>\n",
       "      <td>['Eshan Samaranayake']</td>\n",
       "      <td>2020-12-21 16:05:19.524000+00:00</td>\n",
       "      <td>['Health', 'Neuroscience', 'Mental Health', 'P...</td>\n",
       "      <td>3043</td>\n",
       "    </tr>\n",
       "    <tr>\n",
       "      <th>4</th>\n",
       "      <td>Surviving a Rod Through the Head</td>\n",
       "      <td>You’ve heard of him, haven’t you? Phineas Gage...</td>\n",
       "      <td>https://medium.com/live-your-life-on-purpose/s...</td>\n",
       "      <td>['Rishav Sinha']</td>\n",
       "      <td>2020-02-26 00:01:01.576000+00:00</td>\n",
       "      <td>['Brain', 'Health', 'Development', 'Psychology...</td>\n",
       "      <td>3044</td>\n",
       "    </tr>\n",
       "  </tbody>\n",
       "</table>\n",
       "</div>"
      ],
      "text/plain": [
       "                              title  \\\n",
       "0               Mental Note Vol. 24   \n",
       "1         Your Brain On Coronavirus   \n",
       "2                    Mind Your Nose   \n",
       "3          The 4 Purposes of Dreams   \n",
       "4  Surviving a Rod Through the Head   \n",
       "\n",
       "                                                text  \\\n",
       "0  Photo by Josh Riemer on Unsplash\\n\\nMerry Chri...   \n",
       "1  Your Brain On Coronavirus\\n\\nA guide to the cu...   \n",
       "2  Mind Your Nose\\n\\nHow smell training can chang...   \n",
       "3  Passionate about the synergy between science a...   \n",
       "4  You’ve heard of him, haven’t you? Phineas Gage...   \n",
       "\n",
       "                                                 url                 authors  \\\n",
       "0  https://medium.com/invisible-illness/mental-no...            ['Ryan Fan']   \n",
       "1  https://medium.com/age-of-awareness/how-the-pa...       ['Simon Spichak']   \n",
       "2  https://medium.com/neodotlife/mind-your-nose-f...                      []   \n",
       "3  https://medium.com/science-for-real/the-4-purp...  ['Eshan Samaranayake']   \n",
       "4  https://medium.com/live-your-life-on-purpose/s...        ['Rishav Sinha']   \n",
       "\n",
       "                          timestamp  \\\n",
       "0  2020-12-26 03:38:10.479000+00:00   \n",
       "1  2020-09-23 22:10:17.126000+00:00   \n",
       "2  2020-10-10 20:17:37.132000+00:00   \n",
       "3  2020-12-21 16:05:19.524000+00:00   \n",
       "4  2020-02-26 00:01:01.576000+00:00   \n",
       "\n",
       "                                                tags    id  \n",
       "0  ['Mental Health', 'Health', 'Psychology', 'Sci...  3040  \n",
       "1  ['Mental Health', 'Coronavirus', 'Science', 'P...  3041  \n",
       "2  ['Biotechnology', 'Neuroscience', 'Brain', 'We...  3042  \n",
       "3  ['Health', 'Neuroscience', 'Mental Health', 'P...  3043  \n",
       "4  ['Brain', 'Health', 'Development', 'Psychology...  3044  "
      ]
     },
     "execution_count": 4,
     "metadata": {},
     "output_type": "execute_result"
    }
   ],
   "source": [
    "df = pd.read_csv(FILE_FULL_DATA_PATH)\n",
    "df['id'] = np.arange(3040,len(df)+3040,1)\n",
    "df.head(5)"
   ]
  },
  {
   "cell_type": "markdown",
   "metadata": {
    "id": "1QRlpDrNGYDc"
   },
   "source": [
    "# Embeddings using HuggingFace **Model**\n",
    "\n",
    "- A famous transformer (all-MiniLM-L6-v2) from here: https://huggingface.co/sentence-transformers/all-MiniLM-L6-v2"
   ]
  },
  {
   "cell_type": "code",
   "execution_count": 5,
   "metadata": {},
   "outputs": [],
   "source": [
    "# !nvidia-smi"
   ]
  },
  {
   "cell_type": "code",
   "execution_count": 6,
   "metadata": {
    "id": "U9s_m9X4GetO"
   },
   "outputs": [],
   "source": [
    "model = SentenceTransformer(\n",
    "    model_name_or_path = 'sentence-transformers/all-MiniLM-L6-v2',\n",
    "    device=\"cuda\",\n",
    "    # cache_folder = os.getcwd()\n",
    ")\n",
    "# model"
   ]
  },
  {
   "cell_type": "markdown",
   "metadata": {
    "id": "x_T_sJlnT-Ue"
   },
   "source": [
    "### Test model for embedding"
   ]
  },
  {
   "cell_type": "code",
   "execution_count": 7,
   "metadata": {
    "id": "LOeScWkhKIm4"
   },
   "outputs": [
    {
     "name": "stdout",
     "output_type": "stream",
     "text": [
      "Length of Hugging Face Model is: 384\n"
     ]
    },
    {
     "data": {
      "text/plain": [
       "[-0.013135506771504879,\n",
       " 0.06555432081222534,\n",
       " -0.019770393148064613,\n",
       " -0.03618846833705902,\n",
       " -0.07723397761583328,\n",
       " 0.10825920850038528,\n",
       " 0.0849674716591835,\n",
       " 0.0229044072329998,\n",
       " 0.021594461053609848,\n",
       " 0.0003531991387717426]"
      ]
     },
     "execution_count": 7,
     "metadata": {},
     "output_type": "execute_result"
    }
   ],
   "source": [
    "vect_length_hugging = len(model.encode(df['title'].iloc[0]))\n",
    "print('Length of Hugging Face Model is:', vect_length_hugging)\n",
    "\n",
    "# First 10 values\n",
    "model.encode(df['title'].iloc[0])[:10].tolist()"
   ]
  },
  {
   "cell_type": "markdown",
   "metadata": {
    "id": "uzkEIdNKT0b5"
   },
   "source": [
    "# Pinecone in Code"
   ]
  },
  {
   "cell_type": "code",
   "execution_count": 8,
   "metadata": {
    "id": "NQlgN-LOT6M7"
   },
   "outputs": [
    {
     "name": "stdout",
     "output_type": "stream",
     "text": [
      "Deleting existing indexes for free tier ..\n",
      "Creating New Index: semantic-search ...\n",
      "Done ...\n",
      "Connected to index: semantic-search\n"
     ]
    }
   ],
   "source": [
    "# Initialize a Pinecone client with your API key\n",
    "pc = Pinecone(api_key=PINECONE_API_KEY)\n",
    "\n",
    "## For Free tier, Only one index is accepted --> So removing any other indexes firstly\n",
    "# pc.list_indexes().names()\n",
    "# pc.delete_index(name='')\n",
    "\n",
    "try:\n",
    "    print('Deleting existing indexes for free tier ..')\n",
    "    for idx in pc.list_indexes().names():\n",
    "      pc.delete_index(idx)\n",
    "except:\n",
    "    print('No existing indexes ..')\n",
    "\n",
    "## Create New Index\n",
    "index_name = 'semantic-search'\n",
    "if index_name not in pc.list_indexes().names():\n",
    "  print(f'Creating New Index: {index_name} ...')\n",
    "  pc.create_index(\n",
    "      name=index_name,\n",
    "      dimension=vect_length_hugging,\n",
    "      metric='cosine',\n",
    "      spec=ServerlessSpec(cloud=\"aws\", region=\"us-east-1\"))\n",
    "  print('Done ...')\n",
    "\n",
    "## Index Now is Created, But we want to connect it to upsert vectors to it\n",
    "index = pc.Index(name = index_name)\n",
    "print(f\"Connected to index: {index_name}\")"
   ]
  },
  {
   "cell_type": "markdown",
   "metadata": {
    "id": "QjIakhX7eNV0"
   },
   "source": [
    "### Upserting Dataset in Pinecone DB"
   ]
  },
  {
   "cell_type": "code",
   "execution_count": 9,
   "metadata": {
    "id": "nOiQRW55eB0s"
   },
   "outputs": [
    {
     "name": "stderr",
     "output_type": "stream",
     "text": [
      "100%|██████████| 12023/12023 [2:24:28<00:00,  1.39it/s]   \n"
     ]
    }
   ],
   "source": [
    "batch_size = 16\n",
    "failed_ids = []\n",
    "\n",
    "## Looping over the Dataset and upsert through batches\n",
    "for batch_start in tqdm(range(0,len(df),batch_size)):\n",
    "  try:\n",
    "    # Prepare Batches\n",
    "    batch_end = min(batch_start + batch_size, len(df))          # To Handle the end of dataframe\n",
    "    titles_batch = df['title'][batch_start:batch_end].tolist()\n",
    "    ids_batch = df['id'][batch_start:batch_end].astype(str).tolist()\n",
    "\n",
    "    # Get Embeddings using HuggingFace model\n",
    "    embeds_batch = model.encode(titles_batch).tolist()\n",
    "\n",
    "    # prepare data to upsert\n",
    "    to_upsert = list(zip(ids_batch,embeds_batch))\n",
    "\n",
    "    # Upsert the records into a namespace\n",
    "    index.upsert(vectors = to_upsert, namespace = index_name)\n",
    "\n",
    "  except Exception as e:\n",
    "    print(f'Error Upserting: {e}')\n",
    "    failed_ids.append(ids_batch)"
   ]
  },
  {
   "cell_type": "markdown",
   "metadata": {
    "id": "R1EGu6bNkwtW"
   },
   "source": [
    "### Inference (Query in real-time)"
   ]
  },
  {
   "cell_type": "code",
   "execution_count": 10,
   "metadata": {
    "id": "yXl_61HAkqeB"
   },
   "outputs": [
    {
     "name": "stdout",
     "output_type": "stream",
     "text": [
      "ID: 3042, Score: 0.999845505\n",
      "ID: 118746, Score: 0.723469734\n",
      "ID: 114499, Score: 0.59822464\n",
      "ID: 15900, Score: 0.597365379\n",
      "ID: 189496, Score: 0.571017265\n"
     ]
    }
   ],
   "source": [
    "## Inference (Query in real-time) (you can make more than query in one, List)\n",
    "query_text = 'Mind Your Nose'\n",
    "\n",
    "## Generate Embedding for the query_text\n",
    "query_embeds = model.encode(query_text).tolist()\n",
    "\n",
    "## Search in pinecone DB\n",
    "results = index.query(\n",
    "    vector=[query_embeds],\n",
    "    top_k = 5,\n",
    "    namespace = index_name\n",
    ")\n",
    "\n",
    "# print(results)\n",
    "for match in results['matches']:\n",
    "    print(f\"ID: {match['id']}, Score: {match['score']}\")"
   ]
  },
  {
   "cell_type": "markdown",
   "metadata": {
    "id": "GVsbLJFXqaXA"
   },
   "source": [
    "### Delete vectors using ids"
   ]
  },
  {
   "cell_type": "code",
   "execution_count": 11,
   "metadata": {
    "id": "KZZNlZ2VpZb8"
   },
   "outputs": [],
   "source": [
    "# index.delete(ids = ['3050','3070'], namespace = index_name)"
   ]
  },
  {
   "cell_type": "markdown",
   "metadata": {
    "id": "qV3t0U0ErhhM"
   },
   "source": [
    "### Fetch vectors using ids"
   ]
  },
  {
   "cell_type": "code",
   "execution_count": 12,
   "metadata": {
    "id": "HoC4jW0-rjOF"
   },
   "outputs": [
    {
     "data": {
      "text/plain": [
       "[-0.0321247429,\n",
       " -0.0892664716,\n",
       " -0.0991047397,\n",
       " 0.026135914,\n",
       " -0.0152404457,\n",
       " 0.0753452927,\n",
       " -0.0302256718,\n",
       " 0.00802560151,\n",
       " -0.0815024599,\n",
       " 0.0602753684]"
      ]
     },
     "execution_count": 12,
     "metadata": {},
     "output_type": "execute_result"
    }
   ],
   "source": [
    "# Fetch id = 3080 before update\n",
    "index.fetch(ids=['3080'], namespace = index_name).vectors['3080'].values[:10]"
   ]
  },
  {
   "cell_type": "markdown",
   "metadata": {
    "id": "5kBONTRCrR6P"
   },
   "source": [
    "### Update the embeddings of any id"
   ]
  },
  {
   "cell_type": "code",
   "execution_count": 13,
   "metadata": {
    "id": "TnWIcPZeq-w5"
   },
   "outputs": [],
   "source": [
    "# # update id = 3080\n",
    "# text_update = 'Youssef Taha Badawi'\n",
    "# embeds_update = model.encode(text_update).tolist()\n",
    "\n",
    "# # Update\n",
    "# index.update(id='3080', values=embeds_update, namespace = index_name)"
   ]
  },
  {
   "cell_type": "code",
   "execution_count": 14,
   "metadata": {
    "id": "MPgTHehEtcAS"
   },
   "outputs": [],
   "source": [
    "# # Fetch id = 3080 after update\n",
    "# index.fetch(ids=['3080'], namespace = index_name).vectors['3080'].values[:10]"
   ]
  }
 ],
 "metadata": {
  "accelerator": "GPU",
  "colab": {
   "authorship_tag": "ABX9TyPXlMBdM2R1nSof9K6t6Vs4",
   "gpuType": "T4",
   "provenance": []
  },
  "kernelspec": {
   "display_name": "vectdb",
   "language": "python",
   "name": "python3"
  },
  "language_info": {
   "codemirror_mode": {
    "name": "ipython",
    "version": 3
   },
   "file_extension": ".py",
   "mimetype": "text/x-python",
   "name": "python",
   "nbconvert_exporter": "python",
   "pygments_lexer": "ipython3",
   "version": "3.10.18"
  }
 },
 "nbformat": 4,
 "nbformat_minor": 0
}
